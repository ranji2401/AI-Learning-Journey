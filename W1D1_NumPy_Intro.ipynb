{
 "cells": [
  {
   "cell_type": "code",
   "execution_count": 2,
   "id": "6042cb17",
   "metadata": {},
   "outputs": [],
   "source": [
    "import numpy as np\n"
   ]
  },
  {
   "cell_type": "code",
   "execution_count": 3,
   "id": "b1aab39a",
   "metadata": {},
   "outputs": [
    {
     "data": {
      "text/plain": [
       "array([1, 2, 3, 4, 5])"
      ]
     },
     "execution_count": 3,
     "metadata": {},
     "output_type": "execute_result"
    }
   ],
   "source": [
    "my_list = [1, 2, 3, 4, 5]\n",
    "my_array = np.array(my_list)\n",
    "\n",
    "my_array"
   ]
  },
  {
   "cell_type": "code",
   "execution_count": 4,
   "id": "dcc05149",
   "metadata": {},
   "outputs": [
    {
     "name": "stdout",
     "output_type": "stream",
     "text": [
      "Shape of my_array: (5,)\n",
      "Data type of my_array: int64\n"
     ]
    }
   ],
   "source": [
    "print(f\"Shape of my_array: {my_array.shape}\")\n",
    "print(f\"Data type of my_array: {my_array.dtype}\")"
   ]
  },
  {
   "cell_type": "code",
   "execution_count": 6,
   "id": "69d479cf",
   "metadata": {},
   "outputs": [
    {
     "name": "stdout",
     "output_type": "stream",
     "text": [
      "Shape of my_2d_array: (2, 3)\n"
     ]
    }
   ],
   "source": [
    "my_2d_array = np.array([[1,2,3],[4,5,6]])\n",
    "\n",
    "print(f\"Shape of my_2d_array: {my_2d_array.shape}\")"
   ]
  },
  {
   "cell_type": "code",
   "execution_count": 7,
   "id": "dbf83496",
   "metadata": {},
   "outputs": [
    {
     "name": "stdout",
     "output_type": "stream",
     "text": [
      "Element at (0, 1): 2\n"
     ]
    }
   ],
   "source": [
    "element = my_2d_array[0, 1]  # Accessing the element at row 0, column 1\n",
    "print(f\"Element at (0, 1): {element}\")"
   ]
  },
  {
   "cell_type": "code",
   "execution_count": 8,
   "id": "ff70723d",
   "metadata": {},
   "outputs": [
    {
     "name": "stdout",
     "output_type": "stream",
     "text": [
      "The first row is [1 2 3]\n"
     ]
    }
   ],
   "source": [
    "first_row = my_2d_array[0, :]\n",
    "print(f\"The first row is {first_row}\")  # Accessing the first row"
   ]
  },
  {
   "cell_type": "code",
   "execution_count": 9,
   "id": "54074ce2",
   "metadata": {},
   "outputs": [
    {
     "name": "stdout",
     "output_type": "stream",
     "text": [
      "The third column is [3 6]\n"
     ]
    }
   ],
   "source": [
    "third_column = my_2d_array[:, 2]  # Accessing the third column\n",
    "print(f\"The third column is {third_column}\")\n"
   ]
  },
  {
   "cell_type": "code",
   "execution_count": 10,
   "id": "a8f2afce",
   "metadata": {},
   "outputs": [
    {
     "name": "stdout",
     "output_type": "stream",
     "text": [
      "original Array:\n",
      "[[1 2 3]\n",
      " [4 5 6]]\n",
      "Array after adding 10:\n",
      "[[11 12 13]\n",
      " [14 15 16]]\n"
     ]
    }
   ],
   "source": [
    "print(\"original Array:\")\n",
    "print(my_2d_array)\n",
    "\n",
    "added_array = my_2d_array + 10  # Adding 10 to each element\n",
    "print(\"Array after adding 10:\")\n",
    "print(added_array)"
   ]
  },
  {
   "cell_type": "code",
   "execution_count": 11,
   "id": "b80ee8b8",
   "metadata": {},
   "outputs": [
    {
     "name": "stdout",
     "output_type": "stream",
     "text": [
      "Array after broadcasting addition:\n",
      "[[101 202 303]\n",
      " [104 205 306]]\n"
     ]
    }
   ],
   "source": [
    "vector = np.array([100, 200, 300])\n",
    "\n",
    "broadcast_add = my_2d_array + vector  # Broadcasting the vector to add to each row\n",
    "print(\"Array after broadcasting addition:\")\n",
    "print(broadcast_add)\n"
   ]
  },
  {
   "cell_type": "code",
   "execution_count": null,
   "id": "6ebc8bae",
   "metadata": {},
   "outputs": [],
   "source": []
  }
 ],
 "metadata": {
  "kernelspec": {
   "display_name": "ai_course",
   "language": "python",
   "name": "python3"
  },
  "language_info": {
   "codemirror_mode": {
    "name": "ipython",
    "version": 3
   },
   "file_extension": ".py",
   "mimetype": "text/x-python",
   "name": "python",
   "nbconvert_exporter": "python",
   "pygments_lexer": "ipython3",
   "version": "3.10.18"
  }
 },
 "nbformat": 4,
 "nbformat_minor": 5
}
